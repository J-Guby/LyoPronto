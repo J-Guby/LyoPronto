{
 "cells": [
  {
   "cell_type": "code",
   "execution_count": 17,
   "id": "1267aa27",
   "metadata": {},
   "outputs": [],
   "source": [
    "import ipywidgets as widgets\n",
    "from IPython.display import Javascript\n",
    "import numpy as np\n",
    "# import runpy\n",
    "from IPython.display import display, HTML\n",
    "from IPython.display import clear_output"
   ]
  },
  {
   "cell_type": "code",
   "execution_count": 18,
   "id": "8934c066",
   "metadata": {
    "scrolled": false
   },
   "outputs": [
    {
     "data": {
      "application/javascript": [
       "IPython.notebook.execute_cells_below()"
      ],
      "text/plain": [
       "<IPython.core.display.Javascript object>"
      ]
     },
     "metadata": {},
     "output_type": "display_data"
    },
    {
     "data": {
      "application/javascript": [
       "IPython.notebook.reset"
      ],
      "text/plain": [
       "<IPython.core.display.Javascript object>"
      ]
     },
     "metadata": {},
     "output_type": "display_data"
    },
    {
     "data": {
      "application/vnd.jupyter.widget-view+json": {
       "model_id": "dd87d007a2064ee5b67458e46607791b",
       "version_major": 2,
       "version_minor": 0
      },
      "text/plain": [
       "ToggleButton(value=False, description='Restart Input')"
      ]
     },
     "metadata": {},
     "output_type": "display_data"
    },
    {
     "data": {
      "application/vnd.jupyter.widget-view+json": {
       "model_id": "b9cfea6a1a194774a61303ff67f3d929",
       "version_major": 2,
       "version_minor": 0
      },
      "text/plain": [
       "ToggleButton(value=False, description='Restart Input')"
      ]
     },
     "metadata": {},
     "output_type": "display_data"
    },
    {
     "data": {
      "application/vnd.jupyter.widget-view+json": {
       "model_id": "0142d8dbf9eb46529f2106653ddd804d",
       "version_major": 2,
       "version_minor": 0
      },
      "text/plain": [
       "ToggleButton(value=False, description='Restart Input')"
      ]
     },
     "metadata": {},
     "output_type": "display_data"
    }
   ],
   "source": [
    "try:\n",
    "    del input_values\n",
    "except:\n",
    "    ...\n",
    "\n",
    "def rerun_below(value):\n",
    "    display(Javascript('IPython.notebook.execute_cells_below()'))\n",
    "    display(Javascript('IPython.notebook.reset'))\n",
    "\n",
    "# rerun_below('value')\n",
    "Submit = 'Neutral'\n",
    "state = False\n",
    "button = widgets.ToggleButton(state, description = 'Restart Input')\n",
    "button.observe(rerun_below, \"value\")\n",
    "display(button)"
   ]
  },
  {
   "cell_type": "code",
   "execution_count": 19,
   "id": "740e3cad",
   "metadata": {
    "scrolled": false
   },
   "outputs": [
    {
     "data": {
      "text/html": [
       "<script>$(\"div.input\").hide()</script>"
      ],
      "text/plain": [
       "<IPython.core.display.HTML object>"
      ]
     },
     "metadata": {},
     "output_type": "display_data"
    },
    {
     "data": {
      "application/vnd.jupyter.widget-view+json": {
       "model_id": "4cde357aac4f4ed2a34425cdeea6b688",
       "version_major": 2,
       "version_minor": 0
      },
      "text/plain": [
       "ToggleButton(value=False, description='Show code')"
      ]
     },
     "metadata": {},
     "output_type": "display_data"
    }
   ],
   "source": [
    "javascript_functions = {False: \"hide()\", True: \"show()\"}\n",
    "button_descriptions  = {False: \"Show code\", True: \"Hide code\"}\n",
    "def toggle_code(state):\n",
    "    \"\"\"\n",
    "    Toggles the JavaScript show()/hide() function on the div.input element.\n",
    "    \"\"\"\n",
    "    output_string = \"<script>$(\\\"div.input\\\").{}</script>\"\n",
    "    output_args   = (javascript_functions[state],)\n",
    "    output        = output_string.format(*output_args)\n",
    "    display(HTML(output))\n",
    "def button_action(value):\n",
    "    \"\"\"\n",
    "    Calls the toggle_code function and updates the button description.\n",
    "    \"\"\"\n",
    "    state = value.new\n",
    "    toggle_code(state)\n",
    "    value.owner.description = button_descriptions[state]\n",
    "   \n",
    "state = False\n",
    "toggle_code(state)\n",
    "button = widgets.ToggleButton(state, description = button_descriptions[state])\n",
    "button.observe(button_action, \"value\")\n",
    "display(button)"
   ]
  },
  {
   "cell_type": "code",
   "execution_count": 20,
   "id": "063c2bf0",
   "metadata": {},
   "outputs": [
    {
     "data": {
      "application/javascript": [
       "IPython.OutputArea.prototype._should_scroll = function(lines) {\n",
       "    return false;\n",
       "}\n"
      ],
      "text/plain": [
       "<IPython.core.display.Javascript object>"
      ]
     },
     "metadata": {},
     "output_type": "display_data"
    }
   ],
   "source": [
    "%%javascript \n",
    "IPython.OutputArea.prototype._should_scroll = function(lines) {\n",
    "    return false;\n",
    "}"
   ]
  },
  {
   "cell_type": "code",
   "execution_count": 21,
   "id": "b35f9c88",
   "metadata": {
    "scrolled": false
   },
   "outputs": [],
   "source": [
    "# Warnings\n",
    "def ErrorMessage():\n",
    "    \n",
    "    if Simulationtype.value == 'Freezing Calculator':\n",
    "        print('Information for Freezing Calculator: \\nh_freezeing, Tpr0, Tf and Tn must be provided \\nNo Variable Tsh - set point must be specified')\n",
    "        if Variableshelftemperature.value == 'Y':\n",
    "            for i in range(15):\n",
    "                print('\\nError: Variable Tsh must be No!')\n",
    "    elif Simulationtype.value == 'Primary Drying Calculator':\n",
    "        print('Information for Primary Drying Calculator: \\nIf Kv and Rp are known, drying time can be determined \\nIf drying time and Rp are known, Kv can be determined \\nIf Kv and product temperature are known, Rp can be determined \\nNo Variable Pch and Tsh - set points must be specified')\n",
    "        if Variableshelftemperature.value == 'Y' or Variablechamberpressure.value == 'Y':\n",
    "            for i in range(15):\n",
    "                print('\\nError: Variable Pch and Tsh must be No!')\n",
    "    elif Simulationtype.value == 'Design-Space-Generator':\n",
    "        print('Information for Design-Space-Generator: \\nKv and Rp must be known, Tpr_crit must be provided \\nNo Variable Pch and Tsh - set points must be specified')\n",
    "        if Variableshelftemperature.value == 'Y' or Variablechamberpressure.value == 'Y':\n",
    "            for i in range(15):\n",
    "                print('\\nError: Variable Pch and Tsh must be No!')\n",
    "    elif Simulationtype.value == 'Optimizer':\n",
    "        print('Information for Optimizer: \\nKv and Rp must be known, Tpr_crit must be provided \\nCan use variable Pch and/or Tsh')\n",
    "        if Variableshelftemperature.value == 'N' and Variablechamberpressure.value == 'N':\n",
    "            for i in range(15):\n",
    "                print('\\nError: Variable Pch or Tsh must be Yes! \\n')\n"
   ]
  },
  {
   "cell_type": "code",
   "execution_count": 22,
   "id": "28689efa",
   "metadata": {},
   "outputs": [],
   "source": [
    "Choose_list = [\n",
    "[ 'Simulation type', ['Freezing Calculator', 'Primary Drying Calculator', 'Design-Space-Generator', 'Optimizer'] ],\n",
    "[ 'Vial heat coefficient known', [('Yes','Y'), ('No','N')] ],\n",
    "[ 'Product properties known', [('Yes','Y'), ('No','N')] ],\n",
    "[ 'Variable chamber pressure', [('Yes','Y'), ('No','N')] ],\n",
    "[ 'Variable shelf temperature', [('Yes','Y'), ('No','N')] ],\n",
    "[ 'Customer', [('Customize',0), ('LyoHub',1)] ],\n",
    "[ 'Vial preset', [('Customize',0), ('Schott 6R',1)] ],    \n",
    "[ 'Product preset', [('Customize',0), ('5% mannitol',1), ('5% povidone',2), ('0,5% Iyspzyme at Tsh = -25 °C',3), ('0,5% Iyspzyme at Tsh = 25 °C',4), ('2% Iyspzyme at Tsh = -25 °C',5), ('2% Iyspzyme at Tsh = 25 °C',6), ('0,5% BSA at Tsh = -25 °C',7), ('0,5% BSA at Tsh = 25 °C',8), ('2% BSA at Tsh = -25 °C',9), ('2% BSA at Tsh = 25 °C',10), ('0,5% IgG at Tsh = -25 °C',11), ('0,5% IgG at Tsh = 25 °C',12), ('2 IgG at Tsh = -25 °C',13), ('2% IgG at Tsh = 25 °C',14), ('5% sucrose',15)] ],\n",
    "[ 'Simulation preset', [('No',0), ('Yes',1)] ]\n",
    "]"
   ]
  },
  {
   "cell_type": "code",
   "execution_count": 23,
   "id": "5db24d84",
   "metadata": {},
   "outputs": [],
   "source": [
    "preset_Vial_list = {\n",
    "    'Vial area':   [3.80],\n",
    "    'Product Area':[3.14],\n",
    "    'Fill volume': [2.0],\n",
    "    'h_freezing':  [38.0],\n",
    "    'KC':          [2.75e-4], \n",
    "    'KP':          [8.93e-4], \n",
    "    'KD':          [0.46],\n",
    "    'Array of KV': ['10.6, 10.8, 0.01'],\n",
    "} \n",
    "\n",
    "preset_Customer_list = {\n",
    "    'a':                            [-0.182],\n",
    "    'b':                            [0.0117e3],\n",
    "    'Number of vials':              [398],\n",
    "    'Chamber pressure set points':  [0.15],\n",
    "    'Time for chamber pressure':    [1800.0],\n",
    "    'Chamber pressure ramping':     [0.5],\n",
    "    'Chamber Minimum':              [0.05],\n",
    "    'Chamber Maximum':              [1000],\n",
    "    'Intial shelf temperature':     [-5.0],\n",
    "    'Shelf temperature set points': [20.0],\n",
    "    'Time for shelf temperature':   [1800.0],\n",
    "    'Shelf temperature ramping':    [1.0],\n",
    "    'Shelf Minimum':                [-45],\n",
    "    'Shelf Maximum':                [120],\n",
    "    'Array of chamber pressure':    ['0.1,0.4,0.7,1.5'],\n",
    "    'Array of shelf temperature':   ['-5,0,2,5'],\n",
    "}\n",
    "\n",
    "preset_Product_list = {\n",
    "    'Critical product temperature':                              [-5   , ''  , ''    , ''    , ''   , ''    , ''    , ''    , ''    , ''   , ''    , ''    , ''    , '' , ''   ], \n",
    "    'Fractional concentration of solute in the frozen solution': [5    , 5   , 0.5   , 0.5   , 2    , 2     , 0.5   , 0.5   , 2     , 2    , 0.5   , 0.5   , 2     , 2  , 5    ],\n",
    "    'Initial product temperature for freezing':                  [15.8 , ''  , ''    , ''    , ''   , ''    , ''    , ''    , ''    , ''   , ''    , ''    , ''    , '' , ''   ],\n",
    "    'Freezing temperature':                                      [-1.54, ''  , ''    , ''    , ''   , ''    , ''    , ''    , ''    , ''   , ''    , ''    , ''    , '' , ''   ],\n",
    "    'Nucleation temperature':                                    [-5.84, ''  , ''    , ''    , ''   , ''    , ''    , ''    , ''    , ''   , ''    , ''    , ''    , '' , ''   ],\n",
    "    'R0':                                                        [1.4  , 1.13, 0.4638, 1.2467, 0.829, 2.4518, 0.5429, 1.3601, 1.131 , 3.043, 0.9204, 1.4582, 0.8646, 3.2, 0.208], \n",
    "    'A1':                                                        [16   , 5   , 20.6  , 0     , 16.16, 0     , 20.7  , 0     , 20.4  , 0    , 10.9  , 0     , 22.49 , 0  , 15.29], \n",
    "    'A2':                                                        [0.0  , 0   , 4.394 , 0     , 2.386, 0     , 4.951 , 0     , 0.1019, 0    , 1.349 , 0     , 1.716 , 0  , 1.6  ]\n",
    "}\n",
    "\n",
    "preset_Simulation_list = { \n",
    "    'Time step':            [0.001],\n",
    "    'Primary drying time' : [12.62],\n",
    "    'Data Path' :           ['./temperature.dat'],\n",
    "} \n"
   ]
  },
  {
   "cell_type": "code",
   "execution_count": 24,
   "id": "4a3377ea",
   "metadata": {},
   "outputs": [],
   "source": [
    "def Choose_part(Choose_list):\n",
    "    for choose in Choose_list:\n",
    "        var = choose[0].replace(\" \", \"\")\n",
    "        print(choose[0]+':')\n",
    "        globals()[var] = widgets.Dropdown(options=choose[1],)\n",
    "        display(globals()[var])"
   ]
  },
  {
   "cell_type": "code",
   "execution_count": 25,
   "id": "c1e836c5",
   "metadata": {},
   "outputs": [],
   "source": [
    "def Input_part(input_list):\n",
    "    global input_names\n",
    "    input_names = []\n",
    "    \n",
    "    for Input in input_list:\n",
    "        print(Input[0]+':')\n",
    "        \n",
    "\n",
    "        for under1 in Input[1:]:\n",
    "            text = under1[0]\n",
    "            var = text.replace(\" \", \"\")\n",
    "            text_unit = under1[0]+' Unit'\n",
    "            var_unit = text_unit.replace(\" \", \"\")\n",
    "            print(text+':')\n",
    "            prevalue = ''\n",
    "            \n",
    "            input_names.extend([[text, var, var_unit]])\n",
    "            \n",
    "            if Customer.value + Vialpreset.value + Productpreset.value == 0:\n",
    "                text = text\n",
    "            elif text in preset_Customer_list and Customer.value != 0:\n",
    "                text = preset_Customer_list[text][Customer.value-1]\n",
    "                prevalue = text\n",
    "            elif text in preset_Vial_list and Vialpreset.value != 0:\n",
    "                text = preset_Vial_list[text][Vialpreset.value-1]\n",
    "                prevalue = text\n",
    "            elif text in preset_Product_list and Productpreset.value != 0:\n",
    "                text = preset_Product_list[text][Productpreset.value-1]\n",
    "                prevalue = text\n",
    "            elif text in preset_Simulation_list and Simulationpreset.value != 0:\n",
    "                text = preset_Simulation_list[text][Simulationpreset.value-1]\n",
    "                prevalue = text\n",
    "            \n",
    "            globals()[var] =widgets.Text(\n",
    "                value=str(prevalue),\n",
    "                placeholder=str(text),\n",
    "                disabled=False,\n",
    "            )\n",
    "            display(globals()[var])\n",
    "            \n",
    "            globals()[var_unit] =widgets.Dropdown(\n",
    "                options=under1[1:],\n",
    "                disabled=False,\n",
    "            )\n",
    "            display(globals()[var_unit]) \n",
    "            print('\\n')"
   ]
  },
  {
   "cell_type": "code",
   "execution_count": 26,
   "id": "43af3519",
   "metadata": {},
   "outputs": [],
   "source": [
    "def create_list(value):\n",
    "    clear_output(wait=True)\n",
    "    \n",
    "    button = widgets.ToggleButton(state, description = 'Create new input list')\n",
    "    button.observe(create_list, \"value\")\n",
    "    display(button)\n",
    "    \n",
    "    ErrorMessage()\n",
    "    print('\\n')\n",
    "    \n",
    "    input_list = [[\n",
    "        'Vial and Product',\n",
    "        ['Vial area', ('cm²',1), ('m²',1/10000)],\n",
    "        ['Product Area', ('cm²',1), ('m²',1/10000)],\n",
    "        ['Fill volume', ('ml',1), ('l',1/1000)],\n",
    "        ['Time step', ('hr',1), ('s',1/60)]],\n",
    "        ['Lyophilizer equipment capability',\n",
    "        ['a', ('kg/hr',1),('kg/s',1/60)],\n",
    "        ['b', ('kg/hr/Torr',1),('kg/hr/Pa',0.0075006),('kg/s/Pa',0.0075006/60)],\n",
    "        ['Number of vials', ('-',1)],\n",
    "        ['Critical product temperature',('°C',1)]\n",
    "        ]]\n",
    "\n",
    "    print('Information for critical product temperature: \\nAt least 2 to 3 deg C below collapse or glass transition temperature')\n",
    "    print('\\n')\n",
    "\n",
    "\n",
    "    if Simulationtype.value == 'Freezing Calculator':\n",
    "        input_list.extend([[\n",
    "            'Freezing Calculator spezific',\n",
    "            ['Fractional concentration of solute in the frozen solution',('%',1),('-',1/100)],\n",
    "            ['Initial product temperature for freezing',('°C',1)],\n",
    "            ['Freezing temperature',('°C',1)],\n",
    "            ['Nucleation temperature',('°C',1)]\n",
    "        ]])\n",
    "    elif not(Simulationtype.value == 'Primary Drying Calculator' and Productpropertiesknown.value == 'N'):\n",
    "        input_list.extend([[\n",
    "            'Product Parameters',\n",
    "            ['Fractional concentration of solute in the frozen solution',('%',1),('-',1/100)],\n",
    "            ['R0',('cm²-hr-Torr/g',1),('m²-s-Pa/kg',0.000020835)], \n",
    "            ['A1',('cm-hr-Torr/g',1),('m-s-Pa/kg',0.00000020835)], \n",
    "            ['A2',('1/cm',1),('1/m',1/100)]\n",
    "        ]])\n",
    "\n",
    "    else:\n",
    "        input_list.extend([[        \n",
    "            'Experimental product temperature measurements', \n",
    "            ['Data Path',('t(hr), Tp(C)')]\n",
    "        ]])  \n",
    "\n",
    "    if Simulationtype.value == 'Freezing Calculator':\n",
    "        input_list.extend([[\n",
    "            'Vial Heat transfer coefficient',\n",
    "            ['h_freezing',('W/m²/K',1)]\n",
    "        ]])  \n",
    "\n",
    "    elif Vialheatcoefficientknown.value == 'Y':\n",
    "        input_list.extend([[\n",
    "            'Vial Heat transfer coefficient',\n",
    "            ['KC',('cal/s/cm²/K',1),('W/m²/K',0.00002388)], \n",
    "            ['KP',('cal/s/cm²/K/Torr',1),('W/m²/K/Pa',0.00318374530037597)], \n",
    "            ['KD',('1/Torr',1),('1/Pa',133.322667519932)]\n",
    "        ]])    \n",
    "    else:\n",
    "        input_list.extend([[\n",
    "            'Vial Heat transfer coefficient',\n",
    "            ['Array of KV',('cal/s/cm²/K',1),('W/m²/K',0.00002388)],\n",
    "            ['Primary drying time',('hr',1),('s',1/3600)]\n",
    "        ]])  \n",
    "\n",
    "\n",
    "    if Simulationtype.value == 'Design-Space-Generator':  \n",
    "        input_list.extend([[\n",
    "            'Chamber',\n",
    "            ['Array of chamber pressure',('Torr',1),('Pa',0.0075006)]\n",
    "        ]])   \n",
    "    elif not(Simulationtype.value == 'Optimizer' and Variableshelftemperature.value == 'Y'):\n",
    "        input_list.extend([[\n",
    "            'Chamber',\n",
    "            ['Chamber pressure set points',('Torr',1),('Pa',0.0075006)],\n",
    "            ['Time for chamber pressure',('min',1),('s',1/60)],\n",
    "            ['Chamber pressure ramping',('Torr/min',1),('Pa/min',0.0075006),('Pa/s',0.0075006/60)]\n",
    "        ]])  \n",
    "    else:\n",
    "        input_list.extend([[\n",
    "            'Chamber',\n",
    "            ['Chamber Minimum',('Torr',1),('Pa',0.0075006)],\n",
    "            ['Chamber Maximum',('Torr',1),('Pa',0.0075006)]\n",
    "        ]])  \n",
    "\n",
    "\n",
    "    if Simulationtype.value == 'Design-Space-Generator': \n",
    "        input_list.extend([[\n",
    "            'Shelf',\n",
    "            ['Array of shelf temperature',('°C',1)],\n",
    "            ['Shelf temperature ramping',('°C/min',1),('°C/s',1/60)]\n",
    "        ]])   \n",
    "    elif not(Simulationtype.value == 'Optimizer' and Variableshelftemperature.value == 'Y'):\n",
    "        input_list.extend([[\n",
    "            'Shelf',\n",
    "            ['Intial shelf temperature',('°C',1)],\n",
    "            ['Shelf temperature set points',('°C',1)],\n",
    "            ['Time for shelf temperature',('min',1),('s',1/60)],\n",
    "            ['Shelf temperature ramping',('°C/min',1),('°C/s',1/60)]\n",
    "        ]])   \n",
    "    else:\n",
    "        input_list.extend([[\n",
    "            'Shelf',\n",
    "            ['Shelf Minimum',('°C',1)],\n",
    "            ['Shelf Maximum',('°C',1)]\n",
    "        ]])  \n",
    "\n",
    "    \n",
    "    Input_part(input_list)\n",
    "    \n",
    "    "
   ]
  },
  {
   "cell_type": "code",
   "execution_count": 27,
   "id": "14a16cee",
   "metadata": {},
   "outputs": [],
   "source": [
    "def values_dict():\n",
    "    global input_values, Submit\n",
    "    Submit = True\n",
    "    input_values = {}\n",
    "    \n",
    "    for choose in Choose_list:   \n",
    "        var = choose[0].replace(\" \", \"\")\n",
    "        input_values[str(choose[0])] = str(globals()[var].value)\n",
    "        print(f\"{choose[0]}: {input_values[str(choose[0])]}\")\n",
    "    \n",
    "    for var in input_names:   \n",
    "        if str(globals()[var[1]].value) == '': \n",
    "            print('Input missing: '+var[0])\n",
    "            Submit = False\n",
    "        else:\n",
    "            try:\n",
    "                input_values[str(var[0])] = float(globals()[var[1]].value) * float(globals()[var[2]].value)\n",
    "            except:\n",
    "                input_values[str(var[0])] = globals()[var[1]].value\n",
    "            print(f\"{var[0]}: {input_values[str(var[0])]}\")"
   ]
  },
  {
   "cell_type": "markdown",
   "id": "ec8aa22a",
   "metadata": {},
   "source": [
    "# LyoPronto Eingabedaten"
   ]
  },
  {
   "cell_type": "code",
   "execution_count": 28,
   "id": "f5abd434",
   "metadata": {
    "scrolled": true
   },
   "outputs": [
    {
     "name": "stdout",
     "output_type": "stream",
     "text": [
      "Simulation type:\n"
     ]
    },
    {
     "data": {
      "application/vnd.jupyter.widget-view+json": {
       "model_id": "32b0dc164c9f4bd186ee41022f2e60b6",
       "version_major": 2,
       "version_minor": 0
      },
      "text/plain": [
       "Dropdown(options=('Freezing Calculator', 'Primary Drying Calculator', 'Design-Space-Generator', 'Optimizer'), …"
      ]
     },
     "metadata": {},
     "output_type": "display_data"
    },
    {
     "name": "stdout",
     "output_type": "stream",
     "text": [
      "Vial heat coefficient known:\n"
     ]
    },
    {
     "data": {
      "application/vnd.jupyter.widget-view+json": {
       "model_id": "c947d26487904cc0a184e1da21cc3b85",
       "version_major": 2,
       "version_minor": 0
      },
      "text/plain": [
       "Dropdown(options=(('Yes', 'Y'), ('No', 'N')), value='Y')"
      ]
     },
     "metadata": {},
     "output_type": "display_data"
    },
    {
     "name": "stdout",
     "output_type": "stream",
     "text": [
      "Product properties known:\n"
     ]
    },
    {
     "data": {
      "application/vnd.jupyter.widget-view+json": {
       "model_id": "bc9025dfd85e42698486fe2c22cfd159",
       "version_major": 2,
       "version_minor": 0
      },
      "text/plain": [
       "Dropdown(options=(('Yes', 'Y'), ('No', 'N')), value='Y')"
      ]
     },
     "metadata": {},
     "output_type": "display_data"
    },
    {
     "name": "stdout",
     "output_type": "stream",
     "text": [
      "Variable chamber pressure:\n"
     ]
    },
    {
     "data": {
      "application/vnd.jupyter.widget-view+json": {
       "model_id": "aaa025d7ea7e46a9bc7259b1625301dc",
       "version_major": 2,
       "version_minor": 0
      },
      "text/plain": [
       "Dropdown(options=(('Yes', 'Y'), ('No', 'N')), value='Y')"
      ]
     },
     "metadata": {},
     "output_type": "display_data"
    },
    {
     "name": "stdout",
     "output_type": "stream",
     "text": [
      "Variable shelf temperature:\n"
     ]
    },
    {
     "data": {
      "application/vnd.jupyter.widget-view+json": {
       "model_id": "faabe66a43e64187bf819f7e9560c7cf",
       "version_major": 2,
       "version_minor": 0
      },
      "text/plain": [
       "Dropdown(options=(('Yes', 'Y'), ('No', 'N')), value='Y')"
      ]
     },
     "metadata": {},
     "output_type": "display_data"
    },
    {
     "name": "stdout",
     "output_type": "stream",
     "text": [
      "Customer:\n"
     ]
    },
    {
     "data": {
      "application/vnd.jupyter.widget-view+json": {
       "model_id": "65ab0e5af85d44bc88e2c1fccd6497e6",
       "version_major": 2,
       "version_minor": 0
      },
      "text/plain": [
       "Dropdown(options=(('Customize', 0), ('LyoHub', 1)), value=0)"
      ]
     },
     "metadata": {},
     "output_type": "display_data"
    },
    {
     "name": "stdout",
     "output_type": "stream",
     "text": [
      "Vial preset:\n"
     ]
    },
    {
     "data": {
      "application/vnd.jupyter.widget-view+json": {
       "model_id": "7ef3fd13dabc422c82f0ccb7f8f1c242",
       "version_major": 2,
       "version_minor": 0
      },
      "text/plain": [
       "Dropdown(options=(('Customize', 0), ('Schott 6R', 1)), value=0)"
      ]
     },
     "metadata": {},
     "output_type": "display_data"
    },
    {
     "name": "stdout",
     "output_type": "stream",
     "text": [
      "Product preset:\n"
     ]
    },
    {
     "data": {
      "application/vnd.jupyter.widget-view+json": {
       "model_id": "d99c80a114c24735aa663a112b0bd9de",
       "version_major": 2,
       "version_minor": 0
      },
      "text/plain": [
       "Dropdown(options=(('Customize', 0), ('5% mannitol', 1), ('5% povidone', 2), ('0,5% Iyspzyme at Tsh = -25 °C', …"
      ]
     },
     "metadata": {},
     "output_type": "display_data"
    },
    {
     "name": "stdout",
     "output_type": "stream",
     "text": [
      "Simulation preset:\n"
     ]
    },
    {
     "data": {
      "application/vnd.jupyter.widget-view+json": {
       "model_id": "f83432b37a0c4d888b8a15565db67a43",
       "version_major": 2,
       "version_minor": 0
      },
      "text/plain": [
       "Dropdown(options=(('No', 0), ('Yes', 1)), value=0)"
      ]
     },
     "metadata": {},
     "output_type": "display_data"
    }
   ],
   "source": [
    "Choose_part(Choose_list)"
   ]
  },
  {
   "cell_type": "code",
   "execution_count": 29,
   "id": "2146d65f",
   "metadata": {},
   "outputs": [
    {
     "data": {
      "application/vnd.jupyter.widget-view+json": {
       "model_id": "a302217a5b4540e78cf28bedbb512ec7",
       "version_major": 2,
       "version_minor": 0
      },
      "text/plain": [
       "ToggleButton(value=False, description='Create input list')"
      ]
     },
     "metadata": {},
     "output_type": "display_data"
    }
   ],
   "source": [
    "button = widgets.ToggleButton(state, description = 'Create input list')\n",
    "button.observe(create_list, \"value\")\n",
    "display(button)"
   ]
  },
  {
   "cell_type": "code",
   "execution_count": 30,
   "id": "c26d39e6",
   "metadata": {
    "scrolled": true
   },
   "outputs": [
    {
     "data": {
      "application/vnd.jupyter.widget-view+json": {
       "model_id": "4aa0684f01454e07b0d1382a66478055",
       "version_major": 2,
       "version_minor": 0
      },
      "text/plain": [
       "ToggleButton(value=False, description='Submit input')"
      ]
     },
     "metadata": {},
     "output_type": "display_data"
    }
   ],
   "source": [
    "button = widgets.ToggleButton(state, description = 'Submit input')\n",
    "button.observe(rerun_below, \"value\")\n",
    "display(button)"
   ]
  },
  {
   "cell_type": "code",
   "execution_count": 31,
   "id": "0fef52cb",
   "metadata": {},
   "outputs": [
    {
     "name": "stdout",
     "output_type": "stream",
     "text": [
      "\n"
     ]
    }
   ],
   "source": [
    "if Submit == 'Neutral':\n",
    "    print()\n",
    "    Submit = False\n",
    "else:\n",
    "    values_dict()\n",
    "\n",
    "    if Submit:\n",
    "        print('\\n Transfered')\n",
    "\n",
    "        with open('text\\master_main.py', 'r') as Search, \\\n",
    "             open('text\\_toreplace.py', 'r') as Toreplache, \\\n",
    "             open('text\\_replacewith.py', 'r') as Relpacewith, \\\n",
    "             open('..\\LyoPRONTO\\main.py', 'w') as Output:\n",
    "\n",
    "            toreplache = Toreplache.readline()\n",
    "            relpacewith = Relpacewith.readline()\n",
    "\n",
    "            for search in Search:\n",
    "                if search == toreplache:\n",
    "                    exec(relpacewith)\n",
    "                    search = replacement\n",
    "                    toreplache = Toreplache.readline()\n",
    "                    relpacewith = Relpacewith.readline()\n",
    "                    relpacewith = Relpacewith.readline()\n",
    "\n",
    "                Output.write(search)\n",
    "\n",
    "        def start_Lyo(value):\n",
    "            !results\\start_Lyo.bat\n",
    "\n",
    "        button = widgets.ToggleButton(state, description = 'Start LyoPRONTO')\n",
    "        button.observe(start_Lyo, \"value\")\n",
    "        display(button)\n",
    "    else:\n",
    "        print('\\n Information missing for transfer')\n",
    "        Submit = True"
   ]
  },
  {
   "cell_type": "code",
   "execution_count": null,
   "id": "5d5c7b70",
   "metadata": {},
   "outputs": [],
   "source": []
  }
 ],
 "metadata": {
  "kernelspec": {
   "display_name": "Python 3 (ipykernel)",
   "language": "python",
   "name": "python3"
  },
  "language_info": {
   "codemirror_mode": {
    "name": "ipython",
    "version": 3
   },
   "file_extension": ".py",
   "mimetype": "text/x-python",
   "name": "python",
   "nbconvert_exporter": "python",
   "pygments_lexer": "ipython3",
   "version": "3.8.7"
  }
 },
 "nbformat": 4,
 "nbformat_minor": 5
}
