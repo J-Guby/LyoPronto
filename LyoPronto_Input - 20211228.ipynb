{
 "cells": [
  {
   "cell_type": "code",
   "execution_count": 102,
   "id": "8934c066",
   "metadata": {
    "scrolled": false
   },
   "outputs": [
    {
     "data": {
      "application/javascript": [
       "IPython.notebook.execute_cells_below()"
      ],
      "text/plain": [
       "<IPython.core.display.Javascript object>"
      ]
     },
     "metadata": {},
     "output_type": "display_data"
    },
    {
     "data": {
      "application/javascript": [
       "IPython.notebook.reset"
      ],
      "text/plain": [
       "<IPython.core.display.Javascript object>"
      ]
     },
     "metadata": {},
     "output_type": "display_data"
    },
    {
     "data": {
      "application/javascript": [
       "IPython.notebook.execute_cells_below()"
      ],
      "text/plain": [
       "<IPython.core.display.Javascript object>"
      ]
     },
     "metadata": {},
     "output_type": "display_data"
    },
    {
     "data": {
      "application/javascript": [
       "IPython.notebook.reset"
      ],
      "text/plain": [
       "<IPython.core.display.Javascript object>"
      ]
     },
     "metadata": {},
     "output_type": "display_data"
    },
    {
     "data": {
      "application/vnd.jupyter.widget-view+json": {
       "model_id": "3c8af5f0110d4162a41a2c1925fc351a",
       "version_major": 2,
       "version_minor": 0
      },
      "text/plain": [
       "ToggleButton(value=False, description='Restart Input')"
      ]
     },
     "metadata": {},
     "output_type": "display_data"
    }
   ],
   "source": [
    "try:\n",
    "    del input_values\n",
    "except:\n",
    "    ...\n",
    "    \n",
    "import ipywidgets as widgets\n",
    "from IPython.display import Javascript\n",
    "import numpy as np\n",
    "import runpy\n",
    "from IPython.display import display, HTML\n",
    "from IPython.display import clear_output\n",
    "\n",
    "def rerun_below(value):\n",
    "    display(Javascript('IPython.notebook.execute_cells_below()'))\n",
    "    display(Javascript('IPython.notebook.reset'))\n",
    "\n",
    "rerun_below('value')\n",
    "Submit = 'Neutral'\n",
    "state = False\n",
    "button = widgets.ToggleButton(state, description = 'Restart Input')\n",
    "button.observe(rerun_below, \"value\")\n",
    "display(button)"
   ]
  },
  {
   "cell_type": "code",
   "execution_count": 103,
   "id": "740e3cad",
   "metadata": {
    "scrolled": false
   },
   "outputs": [
    {
     "data": {
      "text/html": [
       "<script>$(\"div.input\").hide()</script>"
      ],
      "text/plain": [
       "<IPython.core.display.HTML object>"
      ]
     },
     "metadata": {},
     "output_type": "display_data"
    },
    {
     "data": {
      "application/vnd.jupyter.widget-view+json": {
       "model_id": "f8ed9652963442d8ace216cb1635ba71",
       "version_major": 2,
       "version_minor": 0
      },
      "text/plain": [
       "ToggleButton(value=False, description='Show code')"
      ]
     },
     "metadata": {},
     "output_type": "display_data"
    },
    {
     "data": {
      "text/html": [
       "<script>$(\"div.input\").show()</script>"
      ],
      "text/plain": [
       "<IPython.core.display.HTML object>"
      ]
     },
     "metadata": {},
     "output_type": "display_data"
    }
   ],
   "source": [
    "javascript_functions = {False: \"hide()\", True: \"show()\"}\n",
    "button_descriptions  = {False: \"Show code\", True: \"Hide code\"}\n",
    "def toggle_code(state):\n",
    "    \"\"\"\n",
    "    Toggles the JavaScript show()/hide() function on the div.input element.\n",
    "    \"\"\"\n",
    "    output_string = \"<script>$(\\\"div.input\\\").{}</script>\"\n",
    "    output_args   = (javascript_functions[state],)\n",
    "    output        = output_string.format(*output_args)\n",
    "    display(HTML(output))\n",
    "def button_action(value):\n",
    "    \"\"\"\n",
    "    Calls the toggle_code function and updates the button description.\n",
    "    \"\"\"\n",
    "    state = value.new\n",
    "    toggle_code(state)\n",
    "    value.owner.description = button_descriptions[state]\n",
    "   \n",
    "state = False\n",
    "toggle_code(state)\n",
    "button = widgets.ToggleButton(state, description = button_descriptions[state])\n",
    "button.observe(button_action, \"value\")\n",
    "display(button)"
   ]
  },
  {
   "cell_type": "code",
   "execution_count": 104,
   "id": "063c2bf0",
   "metadata": {},
   "outputs": [
    {
     "data": {
      "application/javascript": [
       "IPython.OutputArea.prototype._should_scroll = function(lines) {\n",
       "    return false;\n",
       "}\n"
      ],
      "text/plain": [
       "<IPython.core.display.Javascript object>"
      ]
     },
     "metadata": {},
     "output_type": "display_data"
    }
   ],
   "source": [
    "%%javascript \n",
    "IPython.OutputArea.prototype._should_scroll = function(lines) {\n",
    "    return false;\n",
    "}"
   ]
  },
  {
   "cell_type": "code",
   "execution_count": 105,
   "id": "b35f9c88",
   "metadata": {
    "scrolled": false
   },
   "outputs": [],
   "source": [
    "# Warnings\n",
    "def f(x):\n",
    "    return {\n",
    "        'Freezing Calculator': 'Information for Freezing Calculator: \\nh_freezeing, Tpr0, Tf and Tn must be provided \\nNo Variable Tsh - set point must be specified',\n",
    "        'Primary Drying Calculator': 'Information for Primary Drying Calculator: \\nIf Kv and Rp are known, drying time can be determined \\nIf drying time and Rp are known, Kv can be determined \\nIf Kv and product temperature are known, Rp can be determined \\nNo Variable Pch and Tsh - set points must be specified',\n",
    "        'Design-Space-Generator': 'Information for Design-Space-Generator: \\nKv and Rp must be known, Tpr_crit must be provided \\nNo Variable Pch and Tsh - set points must be specified',\n",
    "        'Optimizer': 'Information for Optimizer: \\nKv and Rp must be known, Tpr_crit must be provided \\nCan use variable Pch and/or Tsh',\n",
    "    }[x]"
   ]
  },
  {
   "cell_type": "code",
   "execution_count": 106,
   "id": "28689efa",
   "metadata": {},
   "outputs": [],
   "source": [
    "Choose_list = [\n",
    "[ 'Simulation type', ['Freezing Calculator', 'Primary Drying Calculator', 'Design-Space-Generator', 'Optimizer'] ],\n",
    "[ 'Vial heat coefficient known', [('Yes','Y'), ('No','N')] ],\n",
    "[ 'Product properties known', [('Yes','Y'), ('No','N')] ],\n",
    "[ 'Variable chamber pressure', [('Yes','Y'), ('No','N')] ],\n",
    "[ 'Variable shelf temperature', [('Yes','Y'), ('No','N')] ],\n",
    "[ 'Customer', [('Customize',0), ('Customer A',1), ('Customer B',2), ('Customer C',3)] ],\n",
    "[ 'Vial preset', [('Customize',0), ('Vial A',1), ('Vial B',2), ('Vial C',3)] ],    \n",
    "[ 'Product preset', [('Customize',0), ('5% mannitol',1), ('5% povidone',2), ('0,5% Iyspzyme at Tsh = -25 °C',3), ('0,5% Iyspzyme at Tsh = 25 °C',4), ('2% Iyspzyme at Tsh = -25 °C',5), ('2% Iyspzyme at Tsh = 25 °C',6), ('0,5% BSA at Tsh = -25 °C',7), ('0,5% BSA at Tsh = 25 °C',8), ('2% BSA at Tsh = -25 °C',9), ('2% BSA at Tsh = 25 °C',10), ('0,5% IgG at Tsh = -25 °C',11), ('0,5% IgG at Tsh = 25 °C',12), ('2 IgG at Tsh = -25 °C',13), ('2% IgG at Tsh = 25 °C',14), ('5% sucrose',15)] ]    \n",
    "]"
   ]
  },
  {
   "cell_type": "code",
   "execution_count": 107,
   "id": "5db24d84",
   "metadata": {},
   "outputs": [],
   "source": [
    "preset_Vial_list = {\n",
    "    'Vial area':   [3.80],\n",
    "    'Product Area':[3.14],\n",
    "    'Fill volume': [2.0],\n",
    "    'h_freezing':  [38.0],\n",
    "    'KC':          [2.75e-4], \n",
    "    'KP':          [8.93e-4], \n",
    "    'KD':          [0.46],\n",
    "    'Array of KV': ['10.6, 10.8, 0.01'],\n",
    "} \n",
    "\n",
    "preset_Customer_list = {\n",
    "    'a':                            [-0.182],\n",
    "    'b':                            [0.0117e3],\n",
    "    'Number of vials':              [398],\n",
    "    'Chamber pressure set points':  [0.15],\n",
    "    'Time for chamber pressure':    [1800.0],\n",
    "    'Chamber pressure ramping':     [0.5],\n",
    "    'Chamber Minimum':              [0.05],\n",
    "    'Chamber Maximum':              [1000],\n",
    "    'Intial shelf temperature':     [-5.0],\n",
    "    'Shelf temperature set points': [20.0],\n",
    "    'Time for shelf temperature':   [1800.0],\n",
    "    'Shelf temperature ramping':    [1.0],\n",
    "    'Shelf Minimum':                [-45],\n",
    "    'Shelf Maximum':                [120],\n",
    "    'Array of chamber pressure':    ['0.1,0.4,0.7,1.5'],\n",
    "    'Array of shelf temperature':   ['-5,0,2,5'],\n",
    "}\n",
    "\n",
    "preset_Product_list = {\n",
    "    'Critical product temperature':                              [-5   , ''  , ''    , ''    , ''   , ''    , ''    , ''    , ''    , ''   , ''    , ''    , ''    , '' , ''   ], \n",
    "    'Fractional concentration of solute in the frozen solution': [5    , 5   , 0.5   , 0.5   , 2    , 2     , 0.5   , 0.5   , 2     , 2    , 0.5   , 0.5   , 2     , 2  , 5    ],\n",
    "    'Initial product temperature for freezing':                  [15.8 , ''  , ''    , ''    , ''   , ''    , ''    , ''    , ''    , ''   , ''    , ''    , ''    , '' , ''   ],\n",
    "    'Freezing temperature':                                      [-1.54, ''  , ''    , ''    , ''   , ''    , ''    , ''    , ''    , ''   , ''    , ''    , ''    , '' , ''   ],\n",
    "    'Nucleation temperature':                                    [-5.84, ''  , ''    , ''    , ''   , ''    , ''    , ''    , ''    , ''   , ''    , ''    , ''    , '' , ''   ],\n",
    "    'R0':                                                        [1.4  , 1.13, 0.4638, 1.2467, 0.829, 2.4518, 0.5429, 1.3601, 1.131 , 3.043, 0.9204, 1.4582, 0.8646, 3.2, 0.208], \n",
    "    'A1':                                                        [16   , 5   , 20.6  , 0     , 16.16, 0     , 20.7  , 0     , 20.4  , 0    , 10.9  , 0     , 22.49 , 0  , 15.29], \n",
    "    'A2':                                                        [0.0  , 0   , 4.394 , 0     , 2.386, 0     , 4.951 , 0     , 0.1019, 0    , 1.349 , 0     , 1.716 , 0  , 1.6  ]\n",
    "}"
   ]
  },
  {
   "cell_type": "code",
   "execution_count": 108,
   "id": "4a3377ea",
   "metadata": {},
   "outputs": [],
   "source": [
    "def Choose_part(Choose_list):\n",
    "    for choose in Choose_list:\n",
    "        var = choose[0].replace(\" \", \"\")\n",
    "        print(choose[0]+':')\n",
    "        globals()[var] = widgets.Dropdown(options=choose[1],)\n",
    "        display(globals()[var])"
   ]
  },
  {
   "cell_type": "code",
   "execution_count": 109,
   "id": "c1e836c5",
   "metadata": {},
   "outputs": [],
   "source": [
    "def Input_part(input_list):\n",
    "    global input_names\n",
    "    input_names = []\n",
    "    \n",
    "    for Input in input_list:\n",
    "        print(Input[0]+':')\n",
    "\n",
    "        for under1 in Input[1:]:\n",
    "            text = under1[0]\n",
    "            var = text.replace(\" \", \"\")\n",
    "            print(text+':')\n",
    "            prevalue = ''\n",
    "            \n",
    "            if Customer.value + Vialpreset.value + Productpreset.value == 0:\n",
    "                text = text\n",
    "            elif text in preset_Customer_list and Customer.value != 0:\n",
    "                text = preset_Customer_list[text][Customer.value-1]\n",
    "                prevalue = text\n",
    "            elif text in preset_Vial_list and Vialpreset.value != 0:\n",
    "                text = preset_Vial_list[text][Vialpreset.value-1]\n",
    "                prevalue = text\n",
    "            elif text in preset_Product_list and Productpreset.value != 0:\n",
    "                text = preset_Product_list[text][Productpreset.value-1]\n",
    "                prevalue = text\n",
    "            \n",
    "            globals()[var] =widgets.Text(\n",
    "                value=str(prevalue),\n",
    "                placeholder=str(text),\n",
    "                disabled=False,\n",
    "            )\n",
    "            display(globals()[var])\n",
    "\n",
    "            text_unit = under1[0]+' Unit'\n",
    "            var_unit = text_unit.replace(\" \", \"\")\n",
    "            globals()[var_unit] =widgets.Dropdown(\n",
    "                options=under1[1:],\n",
    "                disabled=False,\n",
    "            )\n",
    "            display(globals()[var_unit]) \n",
    "            print('\\n')\n",
    "            \n",
    "            input_names.extend([[text, var, var_unit]])"
   ]
  },
  {
   "cell_type": "code",
   "execution_count": 110,
   "id": "43af3519",
   "metadata": {},
   "outputs": [],
   "source": [
    "def create_list(value):\n",
    "    clear_output(wait=True)\n",
    "    \n",
    "    button = widgets.ToggleButton(state, description = 'Create new input list')\n",
    "    button.observe(create_list, \"value\")\n",
    "    display(button)\n",
    "    \n",
    "    print(f(Simulationtype.value))\n",
    "    print('\\n')\n",
    "    \n",
    "    input_list = [[\n",
    "        'Vial and Product',\n",
    "        ['Vial area', ('cm²',1), ('m²',1/10000)],\n",
    "        ['Product Area', ('cm²',1), ('m²',1/10000)],\n",
    "        ['Fill volume', ('ml',1), ('l',1/1000)],\n",
    "        ['Time step', ('hr',1), ('s',1/60)]],\n",
    "        ['Lyophilizer equipment capability',\n",
    "        ['a', ('kg/hr',1),('kg/s',1/60)],\n",
    "        ['b', ('kg/hr/Torr',1),('kg/hr/Pa',0.0075006),('kg/s/Pa',0.0075006/60)],\n",
    "        ['Number of vials', ('-',1)],\n",
    "        ['Critical product temperature',('°C',1)]\n",
    "        ]]\n",
    "\n",
    "    print('Information for critical product temperature: \\nAt least 2 to 3 deg C below collapse or glass transition temperature')\n",
    "    print('\\n')\n",
    "\n",
    "\n",
    "    if Simulationtype.value == 'Freezing Calculator':\n",
    "        input_list.extend([[\n",
    "            'Freezing Calculator spezific',\n",
    "            ['Fractional concentration of solute in the frozen solution',('%',1),('-',1/100)],\n",
    "            ['Initial product temperature for freezing',('°C',1)],\n",
    "            ['Freezing temperature',('°C',1)],\n",
    "            ['Nucleation temperature',('°C',1)]\n",
    "        ]])\n",
    "    elif not(Simulationtype.value == 'Primary Drying Calculator' and Productpropertiesknown.value == 'N'):\n",
    "        input_list.extend([[\n",
    "            'Product Parameters',\n",
    "            ['Fractional concentration of solute in the frozen solution',('%',1),('-',1/100)],\n",
    "            ['R0',('cm²-hr-Torr/g',1),('m²-s-Pa/kg',0.000020835)], \n",
    "            ['A1',('cm-hr-Torr/g',1),('m-s-Pa/kg',0.00000020835)], \n",
    "            ['A2',('1/cm',1),('1/m',1/100)]\n",
    "        ]])\n",
    "\n",
    "    else:\n",
    "        input_list.extend([[        \n",
    "            'Experimental product temperature measurements',\n",
    "        ]])  \n",
    "\n",
    "    if Simulationtype.value == 'Freezing Calculator':\n",
    "        input_list.extend([[\n",
    "            'Vial Heat transfer coefficient',\n",
    "            ['h_freezing',('W/m²/K',1)]\n",
    "        ]])  \n",
    "\n",
    "    elif Vialheatcoefficientknown.value == 'Y':\n",
    "        input_list.extend([[\n",
    "            'Vial Heat transfer coefficient',\n",
    "            ['KC',('cal/s/cm²/K',1),('W/m²/K',0.00002388)], \n",
    "            ['KP',('cal/s/cm²/K/Torr',1),('W/m²/K/Pa',0.00318374530037597)], \n",
    "            ['KD',('1/Torr',1),('1/Pa',133.322667519932)]\n",
    "        ]])    \n",
    "    else:\n",
    "        input_list.extend([[\n",
    "            'Vial Heat transfer coefficient',\n",
    "            ['KV',('cal/s/cm²/K',1),('W/m²/K',0.00002388)],\n",
    "            ['Primary drying time',('hr',1),('s',1/3600)]\n",
    "        ]])  \n",
    "\n",
    "\n",
    "    if Simulationtype.value == 'Design-Space-Generator':  \n",
    "        input_list.extend([[\n",
    "            'Chamber',\n",
    "            ['Array of chamber pressure',('Torr',1),('Pa',0.0075006)]\n",
    "        ]])   \n",
    "    elif not(Simulationtype.value == 'Optimizer' and Variableshelftemperature.value == 'Y'):\n",
    "        input_list.extend([[\n",
    "            'Chamber',\n",
    "            ['Chamber pressure set points',('Torr',1),('Pa',0.0075006)],\n",
    "            ['Time for chamber pressure',('min',1),('s',1/60)],\n",
    "            ['Chamber pressure ramping',('Torr/min',1),('Pa/min',0.0075006),('Pa/s',0.0075006/60)]\n",
    "        ]])  \n",
    "    else:\n",
    "        input_list.extend([[\n",
    "            'Chamber',\n",
    "            ['Chamber Minimum',('Torr',1),('Pa',0.0075006)],\n",
    "            ['Chamber Maximum',('Torr',1),('Pa',0.0075006)]\n",
    "        ]])  \n",
    "\n",
    "\n",
    "    if Simulationtype.value == 'Design-Space-Generator': \n",
    "        input_list.extend([[\n",
    "            'Shelf',\n",
    "            ['Array of shelf temperature',('°C',1)],\n",
    "            ['Shelf temperature ramping',('°C/min',1),('°C/s',1/60)]\n",
    "        ]])   \n",
    "    elif not(Simulationtype.value == 'Optimizer' and Variableshelftemperature.value == 'Y'):\n",
    "        input_list.extend([[\n",
    "            'Shelf',\n",
    "            ['Intial shelf temperature',('°C',1)],\n",
    "            ['Shelf temperature set points',('°C',1)],\n",
    "            ['Time for shelf temperature',('min',1),('s',1/60)],\n",
    "            ['Shelf temperature ramping',('°C/min',1),('°C/s',1/60)]\n",
    "        ]])   \n",
    "    else:\n",
    "        input_list.extend([[\n",
    "            'Shelf',\n",
    "            ['Shelf Minimum',('°C',1)],\n",
    "            ['Shelf Maximum',('°C',1)]\n",
    "        ]])  \n",
    "\n",
    "    Input_part(input_list)\n",
    "    \n",
    "    "
   ]
  },
  {
   "cell_type": "code",
   "execution_count": 111,
   "id": "14a16cee",
   "metadata": {},
   "outputs": [],
   "source": [
    "def values_dict():\n",
    "    global input_values, Submit\n",
    "    Submit = True\n",
    "    input_values = {}\n",
    "    \n",
    "    for choose in Choose_list:   \n",
    "        var = choose[0].replace(\" \", \"\")\n",
    "        input_values[str(choose[0])] = str(globals()[var].value)\n",
    "        print(f\"{choose[0]}: {input_values[str(choose[0])]}\")\n",
    "    \n",
    "    for var in input_names:   \n",
    "        if str(globals()[var[1]].value) == '': \n",
    "            print('Input missing: '+var[0])\n",
    "            Submit = False\n",
    "        else:\n",
    "            input_values[str(var[0])] = float(globals()[var[1]].value) * float(globals()[var[2]].value)\n",
    "            print(f\"{var[0]}: {input_values[str(var[0])]}\")"
   ]
  },
  {
   "cell_type": "markdown",
   "id": "ec8aa22a",
   "metadata": {},
   "source": [
    "# LyoPronto Eingabedaten"
   ]
  },
  {
   "cell_type": "code",
   "execution_count": 112,
   "id": "f5abd434",
   "metadata": {
    "scrolled": true
   },
   "outputs": [
    {
     "name": "stdout",
     "output_type": "stream",
     "text": [
      "Simulation type:\n"
     ]
    },
    {
     "data": {
      "application/vnd.jupyter.widget-view+json": {
       "model_id": "183dbafbcccd4219a8928fccf0296d76",
       "version_major": 2,
       "version_minor": 0
      },
      "text/plain": [
       "Dropdown(options=('Freezing Calculator', 'Primary Drying Calculator', 'Design-Space-Generator', 'Optimizer'), …"
      ]
     },
     "metadata": {},
     "output_type": "display_data"
    },
    {
     "name": "stdout",
     "output_type": "stream",
     "text": [
      "Vial heat coefficient known:\n"
     ]
    },
    {
     "data": {
      "application/vnd.jupyter.widget-view+json": {
       "model_id": "dfa289cf879a4a68abf6d9ed6dba00e1",
       "version_major": 2,
       "version_minor": 0
      },
      "text/plain": [
       "Dropdown(options=(('Yes', 'Y'), ('No', 'N')), value='Y')"
      ]
     },
     "metadata": {},
     "output_type": "display_data"
    },
    {
     "name": "stdout",
     "output_type": "stream",
     "text": [
      "Product properties known:\n"
     ]
    },
    {
     "data": {
      "application/vnd.jupyter.widget-view+json": {
       "model_id": "249aff17e6cd4b228b39c14411d51d75",
       "version_major": 2,
       "version_minor": 0
      },
      "text/plain": [
       "Dropdown(options=(('Yes', 'Y'), ('No', 'N')), value='Y')"
      ]
     },
     "metadata": {},
     "output_type": "display_data"
    },
    {
     "name": "stdout",
     "output_type": "stream",
     "text": [
      "Variable chamber pressure:\n"
     ]
    },
    {
     "data": {
      "application/vnd.jupyter.widget-view+json": {
       "model_id": "3f2d10c8fbaf4950a076e56286952f2d",
       "version_major": 2,
       "version_minor": 0
      },
      "text/plain": [
       "Dropdown(options=(('Yes', 'Y'), ('No', 'N')), value='Y')"
      ]
     },
     "metadata": {},
     "output_type": "display_data"
    },
    {
     "name": "stdout",
     "output_type": "stream",
     "text": [
      "Variable shelf temperature:\n"
     ]
    },
    {
     "data": {
      "application/vnd.jupyter.widget-view+json": {
       "model_id": "903d714e92ac40d28dbcd651b463cc6a",
       "version_major": 2,
       "version_minor": 0
      },
      "text/plain": [
       "Dropdown(options=(('Yes', 'Y'), ('No', 'N')), value='Y')"
      ]
     },
     "metadata": {},
     "output_type": "display_data"
    },
    {
     "name": "stdout",
     "output_type": "stream",
     "text": [
      "Customer:\n"
     ]
    },
    {
     "data": {
      "application/vnd.jupyter.widget-view+json": {
       "model_id": "6887bb70886c4661826efb65310a8f4d",
       "version_major": 2,
       "version_minor": 0
      },
      "text/plain": [
       "Dropdown(options=(('Customize', 0), ('Customer A', 1), ('Customer B', 2), ('Customer C', 3)), value=0)"
      ]
     },
     "metadata": {},
     "output_type": "display_data"
    },
    {
     "name": "stdout",
     "output_type": "stream",
     "text": [
      "Vial preset:\n"
     ]
    },
    {
     "data": {
      "application/vnd.jupyter.widget-view+json": {
       "model_id": "adc02eea087e441db840c0b483a3c2ba",
       "version_major": 2,
       "version_minor": 0
      },
      "text/plain": [
       "Dropdown(options=(('Customize', 0), ('Vial A', 1), ('Vial B', 2), ('Vial C', 3)), value=0)"
      ]
     },
     "metadata": {},
     "output_type": "display_data"
    },
    {
     "name": "stdout",
     "output_type": "stream",
     "text": [
      "Product preset:\n"
     ]
    },
    {
     "data": {
      "application/vnd.jupyter.widget-view+json": {
       "model_id": "1b6c0073efeb4baba03b854abc3c8237",
       "version_major": 2,
       "version_minor": 0
      },
      "text/plain": [
       "Dropdown(options=(('Customize', 0), ('5% mannitol', 1), ('5% povidone', 2), ('0,5% Iyspzyme at Tsh = -25 °C', …"
      ]
     },
     "metadata": {},
     "output_type": "display_data"
    }
   ],
   "source": [
    "Choose_part(Choose_list)"
   ]
  },
  {
   "cell_type": "code",
   "execution_count": null,
   "id": "25f97632",
   "metadata": {},
   "outputs": [],
   "source": []
  },
  {
   "cell_type": "code",
   "execution_count": 113,
   "id": "2146d65f",
   "metadata": {},
   "outputs": [
    {
     "data": {
      "application/vnd.jupyter.widget-view+json": {
       "model_id": "87054c9c2a9045aea5b761b375759d64",
       "version_major": 2,
       "version_minor": 0
      },
      "text/plain": [
       "ToggleButton(value=False, description='Create new input list')"
      ]
     },
     "metadata": {},
     "output_type": "display_data"
    },
    {
     "name": "stdout",
     "output_type": "stream",
     "text": [
      "Information for Freezing Calculator: \n",
      "h_freezeing, Tpr0, Tf and Tn must be provided \n",
      "No Variable Tsh - set point must be specified\n",
      "\n",
      "\n",
      "Information for critical product temperature: \n",
      "At least 2 to 3 deg C below collapse or glass transition temperature\n",
      "\n",
      "\n",
      "Vial and Product:\n",
      "Vial area:\n"
     ]
    },
    {
     "data": {
      "application/vnd.jupyter.widget-view+json": {
       "model_id": "35347d57de924a998022d6510c88d07f",
       "version_major": 2,
       "version_minor": 0
      },
      "text/plain": [
       "Text(value='', placeholder='Vial area')"
      ]
     },
     "metadata": {},
     "output_type": "display_data"
    },
    {
     "data": {
      "application/vnd.jupyter.widget-view+json": {
       "model_id": "f36e7cffccff49cfb93eeb607a785ca1",
       "version_major": 2,
       "version_minor": 0
      },
      "text/plain": [
       "Dropdown(options=(('cm²', 1), ('m²', 0.0001)), value=1)"
      ]
     },
     "metadata": {},
     "output_type": "display_data"
    },
    {
     "name": "stdout",
     "output_type": "stream",
     "text": [
      "\n",
      "\n",
      "Product Area:\n"
     ]
    },
    {
     "data": {
      "application/vnd.jupyter.widget-view+json": {
       "model_id": "abe15b984cab467c85e7e0e1b705f84a",
       "version_major": 2,
       "version_minor": 0
      },
      "text/plain": [
       "Text(value='', placeholder='Product Area')"
      ]
     },
     "metadata": {},
     "output_type": "display_data"
    },
    {
     "data": {
      "application/vnd.jupyter.widget-view+json": {
       "model_id": "f9758dc281ab477d8901d61842ddff9c",
       "version_major": 2,
       "version_minor": 0
      },
      "text/plain": [
       "Dropdown(options=(('cm²', 1), ('m²', 0.0001)), value=1)"
      ]
     },
     "metadata": {},
     "output_type": "display_data"
    },
    {
     "name": "stdout",
     "output_type": "stream",
     "text": [
      "\n",
      "\n",
      "Fill volume:\n"
     ]
    },
    {
     "data": {
      "application/vnd.jupyter.widget-view+json": {
       "model_id": "fbb8fa19bc7b493ab0b4a5fb5a5b1a7a",
       "version_major": 2,
       "version_minor": 0
      },
      "text/plain": [
       "Text(value='', placeholder='Fill volume')"
      ]
     },
     "metadata": {},
     "output_type": "display_data"
    },
    {
     "data": {
      "application/vnd.jupyter.widget-view+json": {
       "model_id": "7127ff1979fd4675879ca570375292f7",
       "version_major": 2,
       "version_minor": 0
      },
      "text/plain": [
       "Dropdown(options=(('ml', 1), ('l', 0.001)), value=1)"
      ]
     },
     "metadata": {},
     "output_type": "display_data"
    },
    {
     "name": "stdout",
     "output_type": "stream",
     "text": [
      "\n",
      "\n",
      "Time step:\n"
     ]
    },
    {
     "data": {
      "application/vnd.jupyter.widget-view+json": {
       "model_id": "f83ec7a1ffb0486aa202a7fe83491a64",
       "version_major": 2,
       "version_minor": 0
      },
      "text/plain": [
       "Text(value='', placeholder='Time step')"
      ]
     },
     "metadata": {},
     "output_type": "display_data"
    },
    {
     "data": {
      "application/vnd.jupyter.widget-view+json": {
       "model_id": "10e332e48253436a95b5706eea89bde3",
       "version_major": 2,
       "version_minor": 0
      },
      "text/plain": [
       "Dropdown(options=(('hr', 1), ('s', 0.016666666666666666)), value=1)"
      ]
     },
     "metadata": {},
     "output_type": "display_data"
    },
    {
     "name": "stdout",
     "output_type": "stream",
     "text": [
      "\n",
      "\n",
      "Lyophilizer equipment capability:\n",
      "a:\n"
     ]
    },
    {
     "data": {
      "application/vnd.jupyter.widget-view+json": {
       "model_id": "3c43cd0e11af475980493ce8300a6284",
       "version_major": 2,
       "version_minor": 0
      },
      "text/plain": [
       "Text(value='', placeholder='a')"
      ]
     },
     "metadata": {},
     "output_type": "display_data"
    },
    {
     "data": {
      "application/vnd.jupyter.widget-view+json": {
       "model_id": "8e4c86ef5add48e496737c444170cca2",
       "version_major": 2,
       "version_minor": 0
      },
      "text/plain": [
       "Dropdown(options=(('kg/hr', 1), ('kg/s', 0.016666666666666666)), value=1)"
      ]
     },
     "metadata": {},
     "output_type": "display_data"
    },
    {
     "name": "stdout",
     "output_type": "stream",
     "text": [
      "\n",
      "\n",
      "b:\n"
     ]
    },
    {
     "data": {
      "application/vnd.jupyter.widget-view+json": {
       "model_id": "f2ad24b496c940508aef744bf3a69e83",
       "version_major": 2,
       "version_minor": 0
      },
      "text/plain": [
       "Text(value='', placeholder='b')"
      ]
     },
     "metadata": {},
     "output_type": "display_data"
    },
    {
     "data": {
      "application/vnd.jupyter.widget-view+json": {
       "model_id": "ff01c490f89a4f50afc8475eb436b101",
       "version_major": 2,
       "version_minor": 0
      },
      "text/plain": [
       "Dropdown(options=(('kg/hr/Torr', 1), ('kg/hr/Pa', 0.0075006), ('kg/s/Pa', 0.00012501)), value=1)"
      ]
     },
     "metadata": {},
     "output_type": "display_data"
    },
    {
     "name": "stdout",
     "output_type": "stream",
     "text": [
      "\n",
      "\n",
      "Number of vials:\n"
     ]
    },
    {
     "data": {
      "application/vnd.jupyter.widget-view+json": {
       "model_id": "a40ad2a0fbfc4aadaeed7c092c204fd9",
       "version_major": 2,
       "version_minor": 0
      },
      "text/plain": [
       "Text(value='', placeholder='Number of vials')"
      ]
     },
     "metadata": {},
     "output_type": "display_data"
    },
    {
     "data": {
      "application/vnd.jupyter.widget-view+json": {
       "model_id": "cd061374d9b348d48e5df578c148c9e5",
       "version_major": 2,
       "version_minor": 0
      },
      "text/plain": [
       "Dropdown(options=(('-', 1),), value=1)"
      ]
     },
     "metadata": {},
     "output_type": "display_data"
    },
    {
     "name": "stdout",
     "output_type": "stream",
     "text": [
      "\n",
      "\n",
      "Critical product temperature:\n"
     ]
    },
    {
     "data": {
      "application/vnd.jupyter.widget-view+json": {
       "model_id": "3a130dec259246d4b5e258be6a0dac69",
       "version_major": 2,
       "version_minor": 0
      },
      "text/plain": [
       "Text(value='', placeholder='Critical product temperature')"
      ]
     },
     "metadata": {},
     "output_type": "display_data"
    },
    {
     "data": {
      "application/vnd.jupyter.widget-view+json": {
       "model_id": "0bf0cb84afc74f1faaac94364cf85d99",
       "version_major": 2,
       "version_minor": 0
      },
      "text/plain": [
       "Dropdown(options=(('°C', 1),), value=1)"
      ]
     },
     "metadata": {},
     "output_type": "display_data"
    },
    {
     "name": "stdout",
     "output_type": "stream",
     "text": [
      "\n",
      "\n",
      "Freezing Calculator spezific:\n",
      "Fractional concentration of solute in the frozen solution:\n"
     ]
    },
    {
     "data": {
      "application/vnd.jupyter.widget-view+json": {
       "model_id": "c0c2255240fa48e18df6d74ea175f1e3",
       "version_major": 2,
       "version_minor": 0
      },
      "text/plain": [
       "Text(value='', placeholder='Fractional concentration of solute in the frozen solution')"
      ]
     },
     "metadata": {},
     "output_type": "display_data"
    },
    {
     "data": {
      "application/vnd.jupyter.widget-view+json": {
       "model_id": "015ad6fae6ea4490945ba30511c1e01e",
       "version_major": 2,
       "version_minor": 0
      },
      "text/plain": [
       "Dropdown(options=(('%', 1), ('-', 0.01)), value=1)"
      ]
     },
     "metadata": {},
     "output_type": "display_data"
    },
    {
     "name": "stdout",
     "output_type": "stream",
     "text": [
      "\n",
      "\n",
      "Initial product temperature for freezing:\n"
     ]
    },
    {
     "data": {
      "application/vnd.jupyter.widget-view+json": {
       "model_id": "ce12e6de79394ba686622a09abd3e9ed",
       "version_major": 2,
       "version_minor": 0
      },
      "text/plain": [
       "Text(value='', placeholder='Initial product temperature for freezing')"
      ]
     },
     "metadata": {},
     "output_type": "display_data"
    },
    {
     "data": {
      "application/vnd.jupyter.widget-view+json": {
       "model_id": "cde8af39ea3d4d63afe240a20acfa1c3",
       "version_major": 2,
       "version_minor": 0
      },
      "text/plain": [
       "Dropdown(options=(('°C', 1),), value=1)"
      ]
     },
     "metadata": {},
     "output_type": "display_data"
    },
    {
     "name": "stdout",
     "output_type": "stream",
     "text": [
      "\n",
      "\n",
      "Freezing temperature:\n"
     ]
    },
    {
     "data": {
      "application/vnd.jupyter.widget-view+json": {
       "model_id": "eaa51b1542844735a34e65ea25457ac7",
       "version_major": 2,
       "version_minor": 0
      },
      "text/plain": [
       "Text(value='', placeholder='Freezing temperature')"
      ]
     },
     "metadata": {},
     "output_type": "display_data"
    },
    {
     "data": {
      "application/vnd.jupyter.widget-view+json": {
       "model_id": "48c5cc6b543c4b4b885283f392219966",
       "version_major": 2,
       "version_minor": 0
      },
      "text/plain": [
       "Dropdown(options=(('°C', 1),), value=1)"
      ]
     },
     "metadata": {},
     "output_type": "display_data"
    },
    {
     "name": "stdout",
     "output_type": "stream",
     "text": [
      "\n",
      "\n",
      "Nucleation temperature:\n"
     ]
    },
    {
     "data": {
      "application/vnd.jupyter.widget-view+json": {
       "model_id": "bc63db709e284fd9b09299f038bb21eb",
       "version_major": 2,
       "version_minor": 0
      },
      "text/plain": [
       "Text(value='', placeholder='Nucleation temperature')"
      ]
     },
     "metadata": {},
     "output_type": "display_data"
    },
    {
     "data": {
      "application/vnd.jupyter.widget-view+json": {
       "model_id": "53868ed2f489416bb69dbb888c45c79f",
       "version_major": 2,
       "version_minor": 0
      },
      "text/plain": [
       "Dropdown(options=(('°C', 1),), value=1)"
      ]
     },
     "metadata": {},
     "output_type": "display_data"
    },
    {
     "name": "stdout",
     "output_type": "stream",
     "text": [
      "\n",
      "\n",
      "Vial Heat transfer coefficient:\n",
      "h_freezing:\n"
     ]
    },
    {
     "data": {
      "application/vnd.jupyter.widget-view+json": {
       "model_id": "f24230bd0b124f5e84c19a3696c5925c",
       "version_major": 2,
       "version_minor": 0
      },
      "text/plain": [
       "Text(value='', placeholder='h_freezing')"
      ]
     },
     "metadata": {},
     "output_type": "display_data"
    },
    {
     "data": {
      "application/vnd.jupyter.widget-view+json": {
       "model_id": "1b0762a82c454e418b5f68d11f8537ba",
       "version_major": 2,
       "version_minor": 0
      },
      "text/plain": [
       "Dropdown(options=(('W/m²/K', 1),), value=1)"
      ]
     },
     "metadata": {},
     "output_type": "display_data"
    },
    {
     "name": "stdout",
     "output_type": "stream",
     "text": [
      "\n",
      "\n",
      "Chamber:\n",
      "Chamber pressure set points:\n"
     ]
    },
    {
     "data": {
      "application/vnd.jupyter.widget-view+json": {
       "model_id": "d8fd411fe79d45adba27fe08fe096551",
       "version_major": 2,
       "version_minor": 0
      },
      "text/plain": [
       "Text(value='', placeholder='Chamber pressure set points')"
      ]
     },
     "metadata": {},
     "output_type": "display_data"
    },
    {
     "data": {
      "application/vnd.jupyter.widget-view+json": {
       "model_id": "df2a8bbb7a524bd0af7080be3f1eb492",
       "version_major": 2,
       "version_minor": 0
      },
      "text/plain": [
       "Dropdown(options=(('Torr', 1), ('Pa', 0.0075006)), value=1)"
      ]
     },
     "metadata": {},
     "output_type": "display_data"
    },
    {
     "name": "stdout",
     "output_type": "stream",
     "text": [
      "\n",
      "\n",
      "Time for chamber pressure:\n"
     ]
    },
    {
     "data": {
      "application/vnd.jupyter.widget-view+json": {
       "model_id": "557bc2df5b4b43dca1bb232a2c49646b",
       "version_major": 2,
       "version_minor": 0
      },
      "text/plain": [
       "Text(value='', placeholder='Time for chamber pressure')"
      ]
     },
     "metadata": {},
     "output_type": "display_data"
    },
    {
     "data": {
      "application/vnd.jupyter.widget-view+json": {
       "model_id": "c412d81513ac4de7bef9428773779f3a",
       "version_major": 2,
       "version_minor": 0
      },
      "text/plain": [
       "Dropdown(options=(('min', 1), ('s', 0.016666666666666666)), value=1)"
      ]
     },
     "metadata": {},
     "output_type": "display_data"
    },
    {
     "name": "stdout",
     "output_type": "stream",
     "text": [
      "\n",
      "\n",
      "Chamber pressure ramping:\n"
     ]
    },
    {
     "data": {
      "application/vnd.jupyter.widget-view+json": {
       "model_id": "6071d267602d49e3904c3ca7584b8940",
       "version_major": 2,
       "version_minor": 0
      },
      "text/plain": [
       "Text(value='', placeholder='Chamber pressure ramping')"
      ]
     },
     "metadata": {},
     "output_type": "display_data"
    },
    {
     "data": {
      "application/vnd.jupyter.widget-view+json": {
       "model_id": "9fe20a0248b14ab580ae66b3eaae13e5",
       "version_major": 2,
       "version_minor": 0
      },
      "text/plain": [
       "Dropdown(options=(('Torr/min', 1), ('Pa/min', 0.0075006), ('Pa/s', 0.00012501)), value=1)"
      ]
     },
     "metadata": {},
     "output_type": "display_data"
    },
    {
     "name": "stdout",
     "output_type": "stream",
     "text": [
      "\n",
      "\n",
      "Shelf:\n",
      "Intial shelf temperature:\n"
     ]
    },
    {
     "data": {
      "application/vnd.jupyter.widget-view+json": {
       "model_id": "7300faeb47d74c17ba706d4b3896778e",
       "version_major": 2,
       "version_minor": 0
      },
      "text/plain": [
       "Text(value='', placeholder='Intial shelf temperature')"
      ]
     },
     "metadata": {},
     "output_type": "display_data"
    },
    {
     "data": {
      "application/vnd.jupyter.widget-view+json": {
       "model_id": "71e2037803e44c688a559efd3e676eb6",
       "version_major": 2,
       "version_minor": 0
      },
      "text/plain": [
       "Dropdown(options=(('°C', 1),), value=1)"
      ]
     },
     "metadata": {},
     "output_type": "display_data"
    },
    {
     "name": "stdout",
     "output_type": "stream",
     "text": [
      "\n",
      "\n",
      "Shelf temperature set points:\n"
     ]
    },
    {
     "data": {
      "application/vnd.jupyter.widget-view+json": {
       "model_id": "62bcf810ad76455b8d8e2f816b6d1cb6",
       "version_major": 2,
       "version_minor": 0
      },
      "text/plain": [
       "Text(value='', placeholder='Shelf temperature set points')"
      ]
     },
     "metadata": {},
     "output_type": "display_data"
    },
    {
     "data": {
      "application/vnd.jupyter.widget-view+json": {
       "model_id": "85cf3f08e488436bb440729e7b71c44a",
       "version_major": 2,
       "version_minor": 0
      },
      "text/plain": [
       "Dropdown(options=(('°C', 1),), value=1)"
      ]
     },
     "metadata": {},
     "output_type": "display_data"
    },
    {
     "name": "stdout",
     "output_type": "stream",
     "text": [
      "\n",
      "\n",
      "Time for shelf temperature:\n"
     ]
    },
    {
     "data": {
      "application/vnd.jupyter.widget-view+json": {
       "model_id": "f927974d430d48be9445cb5bade27543",
       "version_major": 2,
       "version_minor": 0
      },
      "text/plain": [
       "Text(value='', placeholder='Time for shelf temperature')"
      ]
     },
     "metadata": {},
     "output_type": "display_data"
    },
    {
     "data": {
      "application/vnd.jupyter.widget-view+json": {
       "model_id": "956a539a666440c3b92527898c0c8962",
       "version_major": 2,
       "version_minor": 0
      },
      "text/plain": [
       "Dropdown(options=(('min', 1), ('s', 0.016666666666666666)), value=1)"
      ]
     },
     "metadata": {},
     "output_type": "display_data"
    },
    {
     "name": "stdout",
     "output_type": "stream",
     "text": [
      "\n",
      "\n",
      "Shelf temperature ramping:\n"
     ]
    },
    {
     "data": {
      "application/vnd.jupyter.widget-view+json": {
       "model_id": "91734888ff8c49df9be9f8154f0f17cb",
       "version_major": 2,
       "version_minor": 0
      },
      "text/plain": [
       "Text(value='', placeholder='Shelf temperature ramping')"
      ]
     },
     "metadata": {},
     "output_type": "display_data"
    },
    {
     "data": {
      "application/vnd.jupyter.widget-view+json": {
       "model_id": "11a4cf536fc7425c99d0a9d4783ab487",
       "version_major": 2,
       "version_minor": 0
      },
      "text/plain": [
       "Dropdown(options=(('°C/min', 1), ('°C/s', 0.016666666666666666)), value=1)"
      ]
     },
     "metadata": {},
     "output_type": "display_data"
    },
    {
     "name": "stdout",
     "output_type": "stream",
     "text": [
      "\n",
      "\n"
     ]
    }
   ],
   "source": [
    "button = widgets.ToggleButton(state, description = 'Create input list')\n",
    "button.observe(create_list, \"value\")\n",
    "display(button)"
   ]
  },
  {
   "cell_type": "code",
   "execution_count": 114,
   "id": "c26d39e6",
   "metadata": {
    "scrolled": true
   },
   "outputs": [
    {
     "data": {
      "application/vnd.jupyter.widget-view+json": {
       "model_id": "18918d853fc746a697987041354b7ea6",
       "version_major": 2,
       "version_minor": 0
      },
      "text/plain": [
       "ToggleButton(value=False, description='Submit input')"
      ]
     },
     "metadata": {},
     "output_type": "display_data"
    }
   ],
   "source": [
    "button = widgets.ToggleButton(state, description = 'Submit input')\n",
    "button.observe(rerun_below, \"value\")\n",
    "display(button)"
   ]
  },
  {
   "cell_type": "code",
   "execution_count": 115,
   "id": "0fef52cb",
   "metadata": {},
   "outputs": [
    {
     "name": "stdout",
     "output_type": "stream",
     "text": [
      "\n"
     ]
    }
   ],
   "source": [
    "if Submit == 'Neutral':\n",
    "    print()\n",
    "    Submit = False\n",
    "elif Submit:\n",
    "    print('Transfered')\n",
    "    values_dict()\n",
    "\n",
    "    with open('text\\master_main.py', 'r') as Search, \\\n",
    "         open('text\\_toreplace.py', 'r') as Toreplache, \\\n",
    "         open('text\\_replacewith.py', 'r') as Relpacewith, \\\n",
    "         open('..\\LyoPRONTO\\main.py', 'w') as Output:\n",
    "\n",
    "        toreplache = Toreplache.readline()\n",
    "        relpacewith = Relpacewith.readline()\n",
    "\n",
    "        for search in Search:\n",
    "            if search == toreplache:\n",
    "                exec(relpacewith)\n",
    "                search = replacement\n",
    "                toreplache = Toreplache.readline()\n",
    "                relpacewith = Relpacewith.readline()\n",
    "                relpacewith = Relpacewith.readline()\n",
    "\n",
    "            Output.write(search)\n",
    "            \n",
    "    def start_Lyo(value):\n",
    "        !results\\start_Lyo.bat\n",
    "            \n",
    "    button = widgets.ToggleButton(state, description = 'Start LyoPRONTO')\n",
    "    button.observe(start_Lyo, \"value\")\n",
    "    display(button)\n",
    "else:\n",
    "    print('Information missing for transfer: \\n')\n",
    "    values_dict()"
   ]
  },
  {
   "cell_type": "code",
   "execution_count": null,
   "id": "345c6179",
   "metadata": {},
   "outputs": [],
   "source": []
  }
 ],
 "metadata": {
  "kernelspec": {
   "display_name": "Python 3 (ipykernel)",
   "language": "python",
   "name": "python3"
  },
  "language_info": {
   "codemirror_mode": {
    "name": "ipython",
    "version": 3
   },
   "file_extension": ".py",
   "mimetype": "text/x-python",
   "name": "python",
   "nbconvert_exporter": "python",
   "pygments_lexer": "ipython3",
   "version": "3.10.1"
  }
 },
 "nbformat": 4,
 "nbformat_minor": 5
}
